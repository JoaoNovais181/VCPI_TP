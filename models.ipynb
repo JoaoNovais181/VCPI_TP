{
 "cells": [
  {
   "cell_type": "code",
   "execution_count": 20,
   "metadata": {},
   "outputs": [],
   "source": [
    "import torch\n",
    "import torchvision\n",
    "import torchinfo\n",
    "from torchvision.transforms import v2\n",
    "import torchvision.transforms as transforms\n",
    "\n",
    "import matplotlib.pyplot as plt\n",
    "import numpy as np\n",
    "import time\n",
    "\n",
    "from PIL import Image\n",
    "\n",
    "\n",
    "import vcpi_util"
   ]
  },
  {
   "cell_type": "markdown",
   "metadata": {},
   "source": [
    "# Balanceamento do dataset"
   ]
  },
  {
   "cell_type": "markdown",
   "metadata": {},
   "source": [
    "Olhando para o output da célula abaixo podemos verificar que existem classes muito subpopuladas em relação a outras, pelo que achamos que seria uma mais valia balancear o dataset, adicionando entradas que seriam transformações de outras entradas do dataset.\n",
    "\n",
    "No final, o dataset balanceado tem 2000 entradas para todas as classes."
   ]
  },
  {
   "cell_type": "code",
   "execution_count": 21,
   "metadata": {},
   "outputs": [
    {
     "name": "stdout",
     "output_type": "stream",
     "text": [
      "Counter({2: 1830, 1: 1801, 13: 1739, 12: 1712, 38: 1639, 14: 1635, 5: 1631, 34: 1630, 41: 1622, 9: 1622, 7: 1617, 31: 1616, 42: 1616, 15: 1616, 26: 1606, 22: 1605, 17: 1605, 3: 1605, 18: 1602, 6: 1601, 33: 1601, 8: 1599, 20: 1599, 19: 1598, 36: 1597, 40: 1597, 23: 1597, 29: 1594, 4: 1589, 24: 1589, 16: 1589, 11: 1587, 39: 1586, 27: 1585, 37: 1584, 21: 1583, 28: 1582, 35: 1580, 25: 1579, 0: 1577, 10: 1571, 32: 1568, 30: 1567})\n"
     ]
    },
    {
     "data": {
      "image/png": "[encoded data removed]",
      "text/plain": [
       "<Figure size 640x480 with 1 Axes>"
      ]
     },
     "metadata": {},
     "output_type": "display_data"
    }
   ],
   "source": [
    "target_list = []\n",
    "for images, targets in train_loader:\n",
    "    target_list.extend(targets)\n",
    "\n",
    "vcpi_util.show_histogram(target_list, train_set.classes)"
   ]
  },
  {
   "cell_type": "code",
   "execution_count": 22,
   "metadata": {},
   "outputs": [],
   "source": [
    "IMAGES_PER_CLASS = 2000\n",
    "data_path = 'dataset'\n"
   ]
  },
  {
   "cell_type": "code",
   "execution_count": 23,
   "metadata": {},
   "outputs": [],
   "source": [
    "# import random\n",
    "# from PIL import Image, ImageEnhance\n",
    "# import random\n",
    "# import os\n",
    "\n",
    "# try:\n",
    "#     os.mkdir(f\"{data_path}/train_balanced\")\n",
    "# except:\n",
    "#     print(\"Ja tinha folder\")\n",
    "# classes = os.listdir(f'{data_path}/train')\n",
    "\n",
    "# list_img = []\n",
    "# for cla in classes:\n",
    "#     try:\n",
    "#         os.mkdir(f\"{data_path}/train_balanced/{cla}\")\n",
    "#     except:\n",
    "#         print(\"Ja tinha folder\")\n",
    "    \n",
    "#     list_img = [file for file in os.listdir(f'{data_path}/train/{cla}') if \".csv\" not in file]\n",
    "#     random.shuffle(list_img)\n",
    "    \n",
    "#     for i in range(len(list_img)):\n",
    "#         filename = f\"{data_path}/train/{cla}/{list_img[i]}\"\n",
    "#         im = Image.open(filename)\n",
    "        \n",
    "#         im.save(f\"{data_path}/train_balanced/{cla}/{list_img[i]}\")\n",
    "    \n",
    "#     for k in range(len(list_img), IMAGES_PER_CLASS):\n",
    "\n",
    "#         filename = f'{data_path}/train/{cla}/{list_img[(k - len(list_img)) % len(list_img)]}'\n",
    "#         im = Image.open(filename)\n",
    "\n",
    "#         r = random.uniform(-10.0,10.0)\n",
    "#         im = im.rotate(r)\n",
    "#         r1 = random.uniform(-3.0,3.0)\n",
    "#         r2 = random.uniform(-3.0,3.0)\n",
    "\n",
    "#         im = im.transform(im.size, Image.Transform.AFFINE, (1, 0, r1, 0, 1, r2))\n",
    "\n",
    "#         r = random.uniform(1.0, 1.3)\n",
    "#         im = ImageEnhance.Sharpness(im)\n",
    "#         im = im.enhance(r)\n",
    "\n",
    "#         r = random.uniform(1.0, 1.3)\n",
    "#         im = ImageEnhance.Contrast(im)\n",
    "#         im = im.enhance(r)\n",
    "        \n",
    "#         im = im.resize((32,32))\n",
    "\n",
    "#         im.save(f'{data_path}/train_balanced/{cla}/_{k}.png')"
   ]
  },
  {
   "cell_type": "markdown",
   "metadata": {},
   "source": [
    "# Definições Relevantes\n",
    "\n",
    "Abaixo temos a definição da função de treino para um modelo, que recebe também uma transformação para aplicar dinamicamente às imagens enquanto treina, fazendo assim aumentação do dataset de treino. Temos ainda a definição da função para avaliar um modelo, a definição do modelo em si, do early stopper utilizado para parar mais cedo o treino, e ainda uma função que constrói a matrix de confusão dos resultados do modelo."
   ]
  },
  {
   "cell_type": "code",
   "execution_count": 24,
   "metadata": {},
   "outputs": [],
   "source": [
    "def train_III(model, train_loader, val_loader, epochs, loss_fn, optimizer, scheduler, early_stopper, transform: transforms.Compose = None, save_prefix = 'model'):\n",
    "\n",
    "    history = {}\n",
    "    history['accuracy'] = []\n",
    "    history['val_acc'] = []\n",
    "    history['val_loss'] = []\n",
    "    history['loss'] = []\n",
    "    best_val_loss = np.inf\n",
    "\n",
    "    for epoch in range(epochs):  # loop over the dataset multiple times\n",
    "\n",
    "        model.train()\n",
    "        start_time = time.time() \n",
    "        correct = 0\n",
    "        running_loss = 0.0\n",
    "        for i, (inputs, targets) in enumerate(train_loader, 0):\n",
    "            \n",
    "            inputs = inputs.to(device)\n",
    "            targets = targets.to(device)\n",
    "            # inputs, targets = transform(inputs, targets)\n",
    "            if transform:\n",
    "                inputs = transform(inputs)\n",
    "\n",
    "            outputs = model(inputs)\n",
    "            # targets = targets.squeeze()\n",
    "            \n",
    "            _, predicted = torch.max(outputs, 1)\n",
    "            # predicted = outputs\n",
    "\n",
    "            loss = loss_fn(outputs, targets)\n",
    "            \n",
    "            optimizer.zero_grad()\n",
    "            loss.backward()\n",
    "            optimizer.step()\n",
    "\n",
    "            running_loss += loss\n",
    "            correct += (predicted == targets).sum()\n",
    "\n",
    "        model.eval()\n",
    "        with torch.no_grad():\n",
    "            v_correct = 0\n",
    "            val_loss = 0.0\n",
    "            for i,t in val_loader:\n",
    "                \n",
    "                i = i.to(device)\n",
    "                t = t.to(device)\n",
    "                if transform:\n",
    "                    i = transform(i)\n",
    "                # i,t= transform(i,t)\n",
    "                o = model(i)\n",
    "                # t = t.squeeze()\n",
    "                _,p = torch.max(o,1)\n",
    "                # p = o\n",
    "                #with torch.no_grad():\n",
    "                val_loss += loss_fn(o, t)\n",
    "\n",
    "                v_correct += (p == t).sum()\n",
    "\n",
    "        old_lr = optimizer.param_groups[0]['lr']\n",
    "        scheduler.step(val_loss)\n",
    "        new_lr = optimizer.param_groups[0]['lr']\n",
    "        \n",
    "        if old_lr != new_lr:\n",
    "            print('==> Learning rate updated: ', old_lr, ' -> ', new_lr)\n",
    "\n",
    "        epoch_loss = running_loss / len(train_loader.dataset)\n",
    "        accuracy = 100 * correct / len(train_loader.dataset)\n",
    "        v_accuracy = 100 * v_correct / len(val_loader.dataset)\n",
    "        val_loss = val_loss / len(val_loader.dataset)\n",
    "        stop_time = time.time()\n",
    "        print(f'Epoch: {epoch:03d}; Loss: {epoch_loss:0.6f}; Accuracy: {accuracy:0.4f}; Val Loss: {val_loss:0.6f}; Val Acc: {v_accuracy:0.4f}; Elapsed time: {(stop_time - start_time):0.4f}')\n",
    "        history['accuracy'].append(accuracy.cpu().numpy())\n",
    "        history['val_acc'].append(v_accuracy.cpu().numpy())\n",
    "        history['val_loss'].append(val_loss.cpu().detach().numpy())\n",
    "        history['loss'].append(epoch_loss.cpu().detach().numpy())\n",
    " \n",
    "        ###### Saving ######\n",
    "        if val_loss < best_val_loss:\n",
    "           \n",
    "            torch.save({\n",
    "                'epoch': epoch,\n",
    "                'model':model.state_dict(),\n",
    "                'optimizer': optimizer.state_dict(),\n",
    "                'scheduler': scheduler.state_dict()\n",
    "                },\n",
    "                f'{save_prefix}_best.pt')\n",
    "\n",
    "        if early_stopper(val_loss):\n",
    "            print('Early stopping!')\n",
    "            break\n",
    "        \n",
    "    print('Finished Training')\n",
    "\n",
    "    return(history)\n",
    "\n",
    "\n",
    "def evaluate(model, data_loader):\n",
    "\n",
    "    # sets the model in evaluation mode.\n",
    "    # although our model does not have layers which behave differently during training and evaluation\n",
    "    # this is a good practice as the models architecture may change in the future\n",
    "    model.eval()\n",
    "\n",
    "    correct = 0\n",
    "    \n",
    "    for i, (images, targets) in enumerate(data_loader):\n",
    "         \n",
    "        # forward pass, compute the output of the model for the current batch\n",
    "        outputs = model(images.to(device))\n",
    "\n",
    "        # \"max\" returns a namedtuple (values, indices) where values is the maximum \n",
    "        # value of each row of the input tensor in the given dimension dim; \n",
    "        # indices is the index location of each maximum value found (argmax).\n",
    "        # the argmax effectively provides the predicted class number        \n",
    "        _, preds = torch.max(outputs, dim=1)\n",
    "\n",
    "        correct += (preds.cpu() == targets).sum()\n",
    "\n",
    "    return (correct / len(data_loader.dataset)).item()\n",
    "\n",
    "\n",
    "class Conv(torch.nn.Module):\n",
    "\n",
    "    def __init__(self, num_classes):\n",
    "        super().__init__()\n",
    "        self.conv1 = torch.nn.Conv2d(3, 16, 3)\n",
    "        self.bn1 = torch.nn.BatchNorm2d(16)\n",
    "        self.relu1 = torch.nn.ReLU()\n",
    "\n",
    "        self.conv2 = torch.nn.Conv2d(16, 32, 3)\n",
    "        self.bn2 = torch.nn.BatchNorm2d(32)\n",
    "        self.relu2 = torch.nn.ReLU()\n",
    "\n",
    "        self.maxpool1 = torch.nn.MaxPool2d(2)\n",
    "\n",
    "\n",
    "        self.conv3 = torch.nn.Conv2d(32, 48, 3)\n",
    "        self.bn3 = torch.nn.BatchNorm2d(48)\n",
    "        self.relu3 = torch.nn.ReLU()\n",
    "\n",
    "        self.conv4 = torch.nn.Conv2d(48, 48, 3)\n",
    "        self.bn4 = torch.nn.BatchNorm2d(48)\n",
    "        self.relu4 = torch.nn.ReLU()\n",
    "\n",
    "        self.maxpool2 = torch.nn.MaxPool2d(2)\n",
    "\n",
    "        self.fc1 = torch.nn.Linear(1200, num_classes)\n",
    "        \n",
    "\n",
    "    def forward(self, x):    \n",
    "        \n",
    "        # input = (bs, 3, 32, 32)\n",
    "        x = self.conv1(x) # -> (bs, 16, 30, 30)\n",
    "        x = self.bn1(x)\n",
    "        x = self.relu1(x)\n",
    "        x = self.conv2(x) # -> (bs, 32, 28, 28)\n",
    "        x = self.bn2(x)\n",
    "        x = self.relu2(x)\n",
    "        x = self.maxpool1(x) # -> (bs, 32, 14, 14)\n",
    "        \n",
    "        x = self.conv3(x) # -> (bs, 48, 12, 12)\n",
    "        x = self.bn3(x)\n",
    "        x = self.relu3(x)\n",
    "        x = self.conv4(x) # -> (bs, 48, 10, 10)\n",
    "        x = self.bn4(x)\n",
    "        x = self.relu4(x)\n",
    "        x = self.maxpool2(x) # -> (bs, 48, 5, 5)\n",
    "        \n",
    "        x = torch.flatten(x,1) # -> (bs, 48 * 5 * 5 = 1200)\n",
    "        x = self.fc1(x)        # -> (bs, num_classes)\n",
    "\n",
    "        return(x)\n",
    "\n",
    "\n",
    "\n",
    "class Early_Stopping():\n",
    "\n",
    "    def __init__(self, patience = 3, min_delta = 0.00001):\n",
    "\n",
    "        self.patience = patience \n",
    "        self.min_delta = min_delta\n",
    "\n",
    "        self.min_delta\n",
    "        self.min_val_loss = float('inf')\n",
    "\n",
    "    def __call__(self, val_loss):\n",
    "\n",
    "        # improvement\n",
    "        if val_loss + self.min_delta < self.min_val_loss:\n",
    "            self.min_val_loss = val_loss\n",
    "            self.counter = 0\n",
    "\n",
    "        # no improvement            \n",
    "        else:\n",
    "            self.counter += 1\n",
    "            if self.counter > self.patience:\n",
    "                return True\n",
    "            \n",
    "        return False\n",
    "    \n",
    "\n",
    "\n",
    "def build_confusion_matrix(model, dataset):\n",
    "\n",
    "    preds = []\n",
    "    ground_truth = []\n",
    "\n",
    "    for images, targets in dataset:\n",
    "\n",
    "        predictions = model(images.to(device))\n",
    "        preds_sparse = [np.argmax(x) for x in predictions.cpu().detach().numpy()]\n",
    "        preds.extend(preds_sparse)\n",
    "        ground_truth.extend(targets.numpy())\n",
    "\n",
    "    vcpi_util.show_confusion_matrix(ground_truth, preds, len(test_set.classes))      \n"
   ]
  },
  {
   "cell_type": "markdown",
   "metadata": {},
   "source": [
    "Decidimos utilizar 32x32 para o tamanho das imagens dentro do modelo, com um _batch size_ de 32."
   ]
  },
  {
   "cell_type": "code",
   "execution_count": 25,
   "metadata": {},
   "outputs": [
    {
     "name": "stdout",
     "output_type": "stream",
     "text": [
      "cuda:0\n"
     ]
    }
   ],
   "source": [
    "device = torch.device('cuda:0' if torch.cuda.is_available() else 'cpu')\n",
    "print(device)\n",
    "\n",
    "PATH_TRAINING_SET = 'dataset/train_balanced'\n",
    "PATH_TEST_SET = 'dataset/test'\n",
    "\n",
    "BATCH_SIZE = 32\n",
    "\n",
    "EPOCHS = 30\n",
    "img_size = 32"
   ]
  },
  {
   "cell_type": "markdown",
   "metadata": {},
   "source": [
    "Definição de uma transformação que foi utilizada no treino de um modelo, que apenas roda a imagem e apaga parte da mesma, e uma transformação que apenas redimensiona a imagem e a coloca no tipo float."
   ]
  },
  {
   "cell_type": "code",
   "execution_count": 26,
   "metadata": {},
   "outputs": [],
   "source": [
    "transform = transforms.Compose([\n",
    "    v2.ToImage(),\n",
    "    v2.RandomRotation(50),\n",
    "    v2.Resize((img_size, img_size)), \n",
    "    v2.RandomErasing(0.5, (0.1,0.1)),\n",
    "    v2.ToDtype(torch.float32, scale=True)\n",
    "])\n",
    "\n",
    "transformNormal = transforms.Compose([\n",
    "    v2.ToImage(),\n",
    "    v2.Resize((img_size, img_size)), \n",
    "    v2.ToDtype(torch.float32)\n",
    "])"
   ]
  },
  {
   "cell_type": "markdown",
   "metadata": {},
   "source": [
    "Load dos datasets de treino e de teste, utilizando 80% do dataset de treino para efetivamente treinar o modelo e 20% para validação."
   ]
  },
  {
   "cell_type": "code",
   "execution_count": 27,
   "metadata": {},
   "outputs": [],
   "source": [
    "train_set: torchvision.datasets.ImageFolder = torchvision.datasets.ImageFolder(root=PATH_TRAINING_SET, transform = transformNormal)\n",
    "\n",
    "train_sub_set, val_sub_set = torch.utils.data.random_split(train_set, [0.8, 0.2])\n",
    "\n",
    "train_loader: torch.utils.data.DataLoader = torch.utils.data.DataLoader(train_sub_set, batch_size=BATCH_SIZE, shuffle=True)\n",
    "val_loader: torch.utils.data.DataLoader = torch.utils.data.DataLoader(val_sub_set, batch_size=BATCH_SIZE)\n",
    "\n",
    "test_set: torchvision.datasets.ImageFolder = torchvision.datasets.ImageFolder(root=PATH_TEST_SET, transform = transformNormal)\n",
    "test_loader: torch.utils.data.DataLoader = torch.utils.data.DataLoader(test_set, batch_size=BATCH_SIZE)\n",
    "\n"
   ]
  },
  {
   "cell_type": "markdown",
   "metadata": {},
   "source": [
    "Instanciação do modelo"
   ]
  },
  {
   "cell_type": "code",
   "execution_count": 28,
   "metadata": {},
   "outputs": [
    {
     "name": "stdout",
     "output_type": "stream",
     "text": [
      "Conv(\n",
      "  (conv1): Conv2d(3, 16, kernel_size=(3, 3), stride=(1, 1))\n",
      "  (bn1): BatchNorm2d(16, eps=1e-05, momentum=0.1, affine=True, track_running_stats=True)\n",
      "  (relu1): ReLU()\n",
      "  (conv2): Conv2d(16, 32, kernel_size=(3, 3), stride=(1, 1))\n",
      "  (bn2): BatchNorm2d(32, eps=1e-05, momentum=0.1, affine=True, track_running_stats=True)\n",
      "  (relu2): ReLU()\n",
      "  (maxpool1): MaxPool2d(kernel_size=2, stride=2, padding=0, dilation=1, ceil_mode=False)\n",
      "  (conv3): Conv2d(32, 48, kernel_size=(3, 3), stride=(1, 1))\n",
      "  (bn3): BatchNorm2d(48, eps=1e-05, momentum=0.1, affine=True, track_running_stats=True)\n",
      "  (relu3): ReLU()\n",
      "  (conv4): Conv2d(48, 48, kernel_size=(3, 3), stride=(1, 1))\n",
      "  (bn4): BatchNorm2d(48, eps=1e-05, momentum=0.1, affine=True, track_running_stats=True)\n",
      "  (relu4): ReLU()\n",
      "  (maxpool2): MaxPool2d(kernel_size=2, stride=2, padding=0, dilation=1, ceil_mode=False)\n",
      "  (fc1): Linear(in_features=1200, out_features=43, bias=True)\n",
      ")\n"
     ]
    },
    {
     "data": {
      "text/plain": [
       "==========================================================================================\n",
       "Layer (type:depth-idx)                   Output Shape              Param #\n",
       "==========================================================================================\n",
       "Conv                                     [32, 43]                  --\n",
       "├─Conv2d: 1-1                            [32, 16, 30, 30]          448\n",
       "├─BatchNorm2d: 1-2                       [32, 16, 30, 30]          32\n",
       "├─ReLU: 1-3                              [32, 16, 30, 30]          --\n",
       "├─Conv2d: 1-4                            [32, 32, 28, 28]          4,640\n",
       "├─BatchNorm2d: 1-5                       [32, 32, 28, 28]          64\n",
       "├─ReLU: 1-6                              [32, 32, 28, 28]          --\n",
       "├─MaxPool2d: 1-7                         [32, 32, 14, 14]          --\n",
       "├─Conv2d: 1-8                            [32, 48, 12, 12]          13,872\n",
       "├─BatchNorm2d: 1-9                       [32, 48, 12, 12]          96\n",
       "├─ReLU: 1-10                             [32, 48, 12, 12]          --\n",
       "├─Conv2d: 1-11                           [32, 48, 10, 10]          20,784\n",
       "├─BatchNorm2d: 1-12                      [32, 48, 10, 10]          96\n",
       "├─ReLU: 1-13                             [32, 48, 10, 10]          --\n",
       "├─MaxPool2d: 1-14                        [32, 48, 5, 5]            --\n",
       "├─Linear: 1-15                           [32, 43]                  51,643\n",
       "==========================================================================================\n",
       "Total params: 91,675\n",
       "Trainable params: 91,675\n",
       "Non-trainable params: 0\n",
       "Total mult-adds (M): 261.40\n",
       "==========================================================================================\n",
       "Input size (MB): 0.39\n",
       "Forward/backward pass size (MB): 26.23\n",
       "Params size (MB): 0.37\n",
       "Estimated Total Size (MB): 26.99\n",
       "=========================================================================================="
      ]
     },
     "execution_count": 28,
     "metadata": {},
     "output_type": "execute_result"
    }
   ],
   "source": [
    "model = Conv(len(train_set.classes))\n",
    "model.to(device)\n",
    "print(model)\n",
    "\n",
    "torchinfo.summary(model, input_size=(BATCH_SIZE, 3, 32, 32))"
   ]
  },
  {
   "cell_type": "markdown",
   "metadata": {},
   "source": [
    "Definição do optimizer, scheduler, loss_fn e early_stop utilizados para treinar o modelo.\n",
    "\n",
    "Temos ainda a definição de algumas transformações, 5 para ser exato.\n",
    "\n",
    "* transform - Aplicação de uma rotação aleatória entre 0 e 50 graus, redimensionamento e apagar parte da imagem\n",
    "* transform2 - Redimensionamento da imagem e permutação dos canais da cor, afetando apenas a cor das imagens\n",
    "* transform3 - Espelhar a imagem horizontalmente (com 50% de chance), espelhar a imagem verticalmente (com 50% de chance), mudar a perspetiva da imagem e aplicar uma transformação \"affine\"\n",
    "* transform4 - chance aleatória entre um cutmix ou um mixup de imagens "
   ]
  },
  {
   "cell_type": "code",
   "execution_count": 29,
   "metadata": {},
   "outputs": [],
   "source": [
    "optimizer = torch.optim.Adam(model.parameters())\n",
    "scheduler = torch.optim.lr_scheduler.ReduceLROnPlateau(optimizer, mode='min', factor = 0.1, patience=3)\n",
    "loss_fn = torch.nn.CrossEntropyLoss()\n",
    "\n",
    "early_stop = Early_Stopping(9)\n",
    "\n",
    "transform2 = transforms.Compose([\n",
    "    v2.ToImage(),\n",
    "    v2.Resize((img_size, img_size)), \n",
    "    v2.RandomChannelPermutation(),\n",
    "    v2.ToDtype(torch.float32, scale=True)\n",
    "])\n",
    "\n",
    "transform3 = transforms.Compose([\n",
    "    v2.ToImage(),\n",
    "    v2.RandomHorizontalFlip(0.5),\n",
    "    v2.RandomVerticalFlip(0.5),\n",
    "    v2.RandomPerspective(0.5),\n",
    "    v2.RandomAffine(50),\n",
    "    v2.Resize((img_size, img_size)), \n",
    "    v2.ToDtype(torch.float32, scale=True)\n",
    "])\n",
    "\n",
    "\n",
    "cutmix = v2.CutMix(num_classes=len(train_set.classes))\n",
    "mixup = v2.MixUp(num_classes=len(train_set.classes))\n",
    "cutmix_or_mixup = v2.RandomChoice([cutmix, mixup], [0.5, 0.5])\n",
    "\n",
    "transform4 = transforms.Compose([\n",
    "    v2.ToImage(),\n",
    "    v2.Resize((img_size, img_size)), \n",
    "    v2.ToDtype(torch.float32, scale=True),\n",
    "    cutmix_or_mixup\n",
    "])\n",
    "\n",
    "transform = transforms.Compose([\n",
    "    v2.ToImage(),\n",
    "    v2.RandomRotation(50),\n",
    "    v2.Resize((img_size, img_size)), \n",
    "    v2.RandomErasing(0.5, (0.1,0.1)),\n",
    "    v2.ToDtype(torch.float32, scale=True)\n",
    "])"
   ]
  },
  {
   "cell_type": "markdown",
   "metadata": {},
   "source": [
    "Código utilizado para ler modelos salvos no disco"
   ]
  },
  {
   "cell_type": "code",
   "execution_count": 30,
   "metadata": {},
   "outputs": [],
   "source": [
    "###### Loading ######\n",
    "# recreate the model and optimizer\n",
    "model = Conv(len(train_set.classes))\n",
    "optimizer = torch.optim.Adam(model.parameters())\n",
    "\n",
    "#load the dict\n",
    "retrieved = torch.load(f'rrotateEraseDynamic.pt')\n",
    "\n",
    "# set the model and optimizer state to the saved state\n",
    "model.load_state_dict(retrieved['model'])\n",
    "model.to(device)\n",
    "optimizer.load_state_dict(retrieved['optimizer'])"
   ]
  },
  {
   "cell_type": "markdown",
   "metadata": {},
   "source": [
    "Treinar o modelo"
   ]
  },
  {
   "cell_type": "code",
   "execution_count": 31,
   "metadata": {},
   "outputs": [
    {
     "name": "stdout",
     "output_type": "stream",
     "text": [
      "Epoch: 000; Loss: 0.006688; Accuracy: 94.9891; Val Loss: 0.006714; Val Acc: 94.9315; Elapsed time: 56.7357\n",
      "Epoch: 001; Loss: 0.006684; Accuracy: 94.9646; Val Loss: 0.006720; Val Acc: 94.9027; Elapsed time: 49.8142\n",
      "Epoch: 002; Loss: 0.006670; Accuracy: 95.0251; Val Loss: 0.006560; Val Acc: 95.0006; Elapsed time: 49.8561\n",
      "Epoch: 003; Loss: 0.006693; Accuracy: 94.9790; Val Loss: 0.006623; Val Acc: 95.0524; Elapsed time: 48.5514\n",
      "Epoch: 004; Loss: 0.006685; Accuracy: 94.9473; Val Loss: 0.006664; Val Acc: 94.9603; Elapsed time: 49.6429\n",
      "Epoch: 005; Loss: 0.006691; Accuracy: 94.9675; Val Loss: 0.006537; Val Acc: 95.0582; Elapsed time: 49.6584\n",
      "Epoch: 006; Loss: 0.006656; Accuracy: 94.9833; Val Loss: 0.006649; Val Acc: 95.0755; Elapsed time: 50.3485\n",
      "Epoch: 007; Loss: 0.006632; Accuracy: 95.0639; Val Loss: 0.006618; Val Acc: 95.0524; Elapsed time: 50.1185\n",
      "Epoch: 008; Loss: 0.006664; Accuracy: 94.9574; Val Loss: 0.006642; Val Acc: 95.0236; Elapsed time: 50.1283\n",
      "Epoch: 009; Loss: 0.006636; Accuracy: 94.9963; Val Loss: 0.006559; Val Acc: 95.0639; Elapsed time: 50.3873\n",
      "Epoch: 010; Loss: 0.006629; Accuracy: 95.0380; Val Loss: 0.006586; Val Acc: 94.9948; Elapsed time: 50.3654\n",
      "Epoch: 011; Loss: 0.006673; Accuracy: 94.9372; Val Loss: 0.006546; Val Acc: 95.0524; Elapsed time: 49.9848\n",
      "Epoch: 012; Loss: 0.006625; Accuracy: 94.9703; Val Loss: 0.006851; Val Acc: 94.8566; Elapsed time: 50.1879\n",
      "Epoch: 013; Loss: 0.006680; Accuracy: 94.9905; Val Loss: 0.006581; Val Acc: 95.0467; Elapsed time: 50.4515\n",
      "Epoch: 014; Loss: 0.006637; Accuracy: 95.0006; Val Loss: 0.006625; Val Acc: 95.0294; Elapsed time: 50.7189\n",
      "Epoch: 015; Loss: 0.006648; Accuracy: 94.9876; Val Loss: 0.006732; Val Acc: 94.9315; Elapsed time: 50.1791\n",
      "Early stopping!\n",
      "Finished Training\n"
     ]
    }
   ],
   "source": [
    "history = train_III(model, train_loader, val_loader, EPOCHS, loss_fn, optimizer, scheduler, early_stop, None, 'balanced')"
   ]
  },
  {
   "cell_type": "markdown",
   "metadata": {},
   "source": [
    "Avaliar o modelo"
   ]
  },
  {
   "cell_type": "code",
   "execution_count": 32,
   "metadata": {},
   "outputs": [
    {
     "data": {
      "text/plain": [
       "0.975771963596344"
      ]
     },
     "execution_count": 32,
     "metadata": {},
     "output_type": "execute_result"
    }
   ],
   "source": [
    "evaluate(model, test_loader)"
   ]
  },
  {
   "cell_type": "markdown",
   "metadata": {},
   "source": [
    "# Ensemble"
   ]
  },
  {
   "cell_type": "markdown",
   "metadata": {},
   "source": [
    "Primeiramente começamos por fazer a leitura dos modelos para serem utilizados no ensemble.\n",
    "\n",
    "Decidimos de todos os modelos apenas utilizar os melhores, e ignorar os que tem \\<90% de accuracy"
   ]
  },
  {
   "cell_type": "code",
   "execution_count": 33,
   "metadata": {},
   "outputs": [
    {
     "name": "stdout",
     "output_type": "stream",
     "text": [
      "rrotateEraseDynamic.pt\n",
      "rrotateEraseBalanced.pt\n",
      "randomChannelPermutBalanced.pt\n",
      "horveraffineperspectiveNovo.pt\n",
      "cutmixMixup57.pt\n"
     ]
    },
    {
     "ename": "KeyboardInterrupt",
     "evalue": "",
     "output_type": "error",
     "traceback": [
      "\u001b[0;31m---------------------------------------------------------------------------\u001b[0m",
      "\u001b[0;31mKeyboardInterrupt\u001b[0m                         Traceback (most recent call last)",
      "Cell \u001b[0;32mIn[33], line 17\u001b[0m\n\u001b[1;32m     15\u001b[0m model\u001b[38;5;241m.\u001b[39mto(device)\n\u001b[1;32m     16\u001b[0m models\u001b[38;5;241m.\u001b[39mappend(model)\n\u001b[0;32m---> 17\u001b[0m acc\u001b[38;5;241m.\u001b[39mappend(\u001b[43mevaluate\u001b[49m\u001b[43m(\u001b[49m\u001b[43mmodels\u001b[49m\u001b[43m[\u001b[49m\u001b[43mi\u001b[49m\u001b[43m]\u001b[49m\u001b[43m,\u001b[49m\u001b[43m \u001b[49m\u001b[43mtest_loader\u001b[49m\u001b[43m)\u001b[49m)\n\u001b[1;32m     18\u001b[0m i \u001b[38;5;241m+\u001b[39m\u001b[38;5;241m=\u001b[39m \u001b[38;5;241m1\u001b[39m\n",
      "Cell \u001b[0;32mIn[24], line 106\u001b[0m, in \u001b[0;36mevaluate\u001b[0;34m(model, data_loader)\u001b[0m\n\u001b[1;32m    102\u001b[0m model\u001b[38;5;241m.\u001b[39meval()\n\u001b[1;32m    104\u001b[0m correct \u001b[38;5;241m=\u001b[39m \u001b[38;5;241m0\u001b[39m\n\u001b[0;32m--> 106\u001b[0m \u001b[38;5;28;01mfor\u001b[39;00m i, (images, targets) \u001b[38;5;129;01min\u001b[39;00m \u001b[38;5;28menumerate\u001b[39m(data_loader):\n\u001b[1;32m    107\u001b[0m      \n\u001b[1;32m    108\u001b[0m     \u001b[38;5;66;03m# forward pass, compute the output of the model for the current batch\u001b[39;00m\n\u001b[1;32m    109\u001b[0m     outputs \u001b[38;5;241m=\u001b[39m model(images\u001b[38;5;241m.\u001b[39mto(device))\n\u001b[1;32m    111\u001b[0m     \u001b[38;5;66;03m# \"max\" returns a namedtuple (values, indices) where values is the maximum \u001b[39;00m\n\u001b[1;32m    112\u001b[0m     \u001b[38;5;66;03m# value of each row of the input tensor in the given dimension dim; \u001b[39;00m\n\u001b[1;32m    113\u001b[0m     \u001b[38;5;66;03m# indices is the index location of each maximum value found (argmax).\u001b[39;00m\n\u001b[1;32m    114\u001b[0m     \u001b[38;5;66;03m# the argmax effectively provides the predicted class number        \u001b[39;00m\n",
      "File \u001b[0;32m~/miniconda3/envs/VCPI/lib/python3.8/site-packages/torch/utils/data/dataloader.py:631\u001b[0m, in \u001b[0;36m_BaseDataLoaderIter.__next__\u001b[0;34m(self)\u001b[0m\n\u001b[1;32m    628\u001b[0m \u001b[38;5;28;01mif\u001b[39;00m \u001b[38;5;28mself\u001b[39m\u001b[38;5;241m.\u001b[39m_sampler_iter \u001b[38;5;129;01mis\u001b[39;00m \u001b[38;5;28;01mNone\u001b[39;00m:\n\u001b[1;32m    629\u001b[0m     \u001b[38;5;66;03m# TODO(https://github.com/pytorch/pytorch/issues/76750)\u001b[39;00m\n\u001b[1;32m    630\u001b[0m     \u001b[38;5;28mself\u001b[39m\u001b[38;5;241m.\u001b[39m_reset()  \u001b[38;5;66;03m# type: ignore[call-arg]\u001b[39;00m\n\u001b[0;32m--> 631\u001b[0m data \u001b[38;5;241m=\u001b[39m \u001b[38;5;28;43mself\u001b[39;49m\u001b[38;5;241;43m.\u001b[39;49m\u001b[43m_next_data\u001b[49m\u001b[43m(\u001b[49m\u001b[43m)\u001b[49m\n\u001b[1;32m    632\u001b[0m \u001b[38;5;28mself\u001b[39m\u001b[38;5;241m.\u001b[39m_num_yielded \u001b[38;5;241m+\u001b[39m\u001b[38;5;241m=\u001b[39m \u001b[38;5;241m1\u001b[39m\n\u001b[1;32m    633\u001b[0m \u001b[38;5;28;01mif\u001b[39;00m \u001b[38;5;28mself\u001b[39m\u001b[38;5;241m.\u001b[39m_dataset_kind \u001b[38;5;241m==\u001b[39m _DatasetKind\u001b[38;5;241m.\u001b[39mIterable \u001b[38;5;129;01mand\u001b[39;00m \\\n\u001b[1;32m    634\u001b[0m         \u001b[38;5;28mself\u001b[39m\u001b[38;5;241m.\u001b[39m_IterableDataset_len_called \u001b[38;5;129;01mis\u001b[39;00m \u001b[38;5;129;01mnot\u001b[39;00m \u001b[38;5;28;01mNone\u001b[39;00m \u001b[38;5;129;01mand\u001b[39;00m \\\n\u001b[1;32m    635\u001b[0m         \u001b[38;5;28mself\u001b[39m\u001b[38;5;241m.\u001b[39m_num_yielded \u001b[38;5;241m>\u001b[39m \u001b[38;5;28mself\u001b[39m\u001b[38;5;241m.\u001b[39m_IterableDataset_len_called:\n",
      "File \u001b[0;32m~/miniconda3/envs/VCPI/lib/python3.8/site-packages/torch/utils/data/dataloader.py:675\u001b[0m, in \u001b[0;36m_SingleProcessDataLoaderIter._next_data\u001b[0;34m(self)\u001b[0m\n\u001b[1;32m    673\u001b[0m \u001b[38;5;28;01mdef\u001b[39;00m \u001b[38;5;21m_next_data\u001b[39m(\u001b[38;5;28mself\u001b[39m):\n\u001b[1;32m    674\u001b[0m     index \u001b[38;5;241m=\u001b[39m \u001b[38;5;28mself\u001b[39m\u001b[38;5;241m.\u001b[39m_next_index()  \u001b[38;5;66;03m# may raise StopIteration\u001b[39;00m\n\u001b[0;32m--> 675\u001b[0m     data \u001b[38;5;241m=\u001b[39m \u001b[38;5;28;43mself\u001b[39;49m\u001b[38;5;241;43m.\u001b[39;49m\u001b[43m_dataset_fetcher\u001b[49m\u001b[38;5;241;43m.\u001b[39;49m\u001b[43mfetch\u001b[49m\u001b[43m(\u001b[49m\u001b[43mindex\u001b[49m\u001b[43m)\u001b[49m  \u001b[38;5;66;03m# may raise StopIteration\u001b[39;00m\n\u001b[1;32m    676\u001b[0m     \u001b[38;5;28;01mif\u001b[39;00m \u001b[38;5;28mself\u001b[39m\u001b[38;5;241m.\u001b[39m_pin_memory:\n\u001b[1;32m    677\u001b[0m         data \u001b[38;5;241m=\u001b[39m _utils\u001b[38;5;241m.\u001b[39mpin_memory\u001b[38;5;241m.\u001b[39mpin_memory(data, \u001b[38;5;28mself\u001b[39m\u001b[38;5;241m.\u001b[39m_pin_memory_device)\n",
      "File \u001b[0;32m~/miniconda3/envs/VCPI/lib/python3.8/site-packages/torch/utils/data/_utils/fetch.py:51\u001b[0m, in \u001b[0;36m_MapDatasetFetcher.fetch\u001b[0;34m(self, possibly_batched_index)\u001b[0m\n\u001b[1;32m     49\u001b[0m         data \u001b[38;5;241m=\u001b[39m \u001b[38;5;28mself\u001b[39m\u001b[38;5;241m.\u001b[39mdataset\u001b[38;5;241m.\u001b[39m__getitems__(possibly_batched_index)\n\u001b[1;32m     50\u001b[0m     \u001b[38;5;28;01melse\u001b[39;00m:\n\u001b[0;32m---> 51\u001b[0m         data \u001b[38;5;241m=\u001b[39m [\u001b[38;5;28mself\u001b[39m\u001b[38;5;241m.\u001b[39mdataset[idx] \u001b[38;5;28;01mfor\u001b[39;00m idx \u001b[38;5;129;01min\u001b[39;00m possibly_batched_index]\n\u001b[1;32m     52\u001b[0m \u001b[38;5;28;01melse\u001b[39;00m:\n\u001b[1;32m     53\u001b[0m     data \u001b[38;5;241m=\u001b[39m \u001b[38;5;28mself\u001b[39m\u001b[38;5;241m.\u001b[39mdataset[possibly_batched_index]\n",
      "File \u001b[0;32m~/miniconda3/envs/VCPI/lib/python3.8/site-packages/torch/utils/data/_utils/fetch.py:51\u001b[0m, in \u001b[0;36m<listcomp>\u001b[0;34m(.0)\u001b[0m\n\u001b[1;32m     49\u001b[0m         data \u001b[38;5;241m=\u001b[39m \u001b[38;5;28mself\u001b[39m\u001b[38;5;241m.\u001b[39mdataset\u001b[38;5;241m.\u001b[39m__getitems__(possibly_batched_index)\n\u001b[1;32m     50\u001b[0m     \u001b[38;5;28;01melse\u001b[39;00m:\n\u001b[0;32m---> 51\u001b[0m         data \u001b[38;5;241m=\u001b[39m [\u001b[38;5;28;43mself\u001b[39;49m\u001b[38;5;241;43m.\u001b[39;49m\u001b[43mdataset\u001b[49m\u001b[43m[\u001b[49m\u001b[43midx\u001b[49m\u001b[43m]\u001b[49m \u001b[38;5;28;01mfor\u001b[39;00m idx \u001b[38;5;129;01min\u001b[39;00m possibly_batched_index]\n\u001b[1;32m     52\u001b[0m \u001b[38;5;28;01melse\u001b[39;00m:\n\u001b[1;32m     53\u001b[0m     data \u001b[38;5;241m=\u001b[39m \u001b[38;5;28mself\u001b[39m\u001b[38;5;241m.\u001b[39mdataset[possibly_batched_index]\n",
      "File \u001b[0;32m~/miniconda3/envs/VCPI/lib/python3.8/site-packages/torchvision/datasets/folder.py:231\u001b[0m, in \u001b[0;36mDatasetFolder.__getitem__\u001b[0;34m(self, index)\u001b[0m\n\u001b[1;32m    229\u001b[0m sample \u001b[38;5;241m=\u001b[39m \u001b[38;5;28mself\u001b[39m\u001b[38;5;241m.\u001b[39mloader(path)\n\u001b[1;32m    230\u001b[0m \u001b[38;5;28;01mif\u001b[39;00m \u001b[38;5;28mself\u001b[39m\u001b[38;5;241m.\u001b[39mtransform \u001b[38;5;129;01mis\u001b[39;00m \u001b[38;5;129;01mnot\u001b[39;00m \u001b[38;5;28;01mNone\u001b[39;00m:\n\u001b[0;32m--> 231\u001b[0m     sample \u001b[38;5;241m=\u001b[39m \u001b[38;5;28;43mself\u001b[39;49m\u001b[38;5;241;43m.\u001b[39;49m\u001b[43mtransform\u001b[49m\u001b[43m(\u001b[49m\u001b[43msample\u001b[49m\u001b[43m)\u001b[49m\n\u001b[1;32m    232\u001b[0m \u001b[38;5;28;01mif\u001b[39;00m \u001b[38;5;28mself\u001b[39m\u001b[38;5;241m.\u001b[39mtarget_transform \u001b[38;5;129;01mis\u001b[39;00m \u001b[38;5;129;01mnot\u001b[39;00m \u001b[38;5;28;01mNone\u001b[39;00m:\n\u001b[1;32m    233\u001b[0m     target \u001b[38;5;241m=\u001b[39m \u001b[38;5;28mself\u001b[39m\u001b[38;5;241m.\u001b[39mtarget_transform(target)\n",
      "File \u001b[0;32m~/miniconda3/envs/VCPI/lib/python3.8/site-packages/torchvision/transforms/transforms.py:95\u001b[0m, in \u001b[0;36mCompose.__call__\u001b[0;34m(self, img)\u001b[0m\n\u001b[1;32m     93\u001b[0m \u001b[38;5;28;01mdef\u001b[39;00m \u001b[38;5;21m__call__\u001b[39m(\u001b[38;5;28mself\u001b[39m, img):\n\u001b[1;32m     94\u001b[0m     \u001b[38;5;28;01mfor\u001b[39;00m t \u001b[38;5;129;01min\u001b[39;00m \u001b[38;5;28mself\u001b[39m\u001b[38;5;241m.\u001b[39mtransforms:\n\u001b[0;32m---> 95\u001b[0m         img \u001b[38;5;241m=\u001b[39m \u001b[43mt\u001b[49m\u001b[43m(\u001b[49m\u001b[43mimg\u001b[49m\u001b[43m)\u001b[49m\n\u001b[1;32m     96\u001b[0m     \u001b[38;5;28;01mreturn\u001b[39;00m img\n",
      "File \u001b[0;32m~/miniconda3/envs/VCPI/lib/python3.8/site-packages/torch/nn/modules/module.py:1511\u001b[0m, in \u001b[0;36mModule._wrapped_call_impl\u001b[0;34m(self, *args, **kwargs)\u001b[0m\n\u001b[1;32m   1509\u001b[0m     \u001b[38;5;28;01mreturn\u001b[39;00m \u001b[38;5;28mself\u001b[39m\u001b[38;5;241m.\u001b[39m_compiled_call_impl(\u001b[38;5;241m*\u001b[39margs, \u001b[38;5;241m*\u001b[39m\u001b[38;5;241m*\u001b[39mkwargs)  \u001b[38;5;66;03m# type: ignore[misc]\u001b[39;00m\n\u001b[1;32m   1510\u001b[0m \u001b[38;5;28;01melse\u001b[39;00m:\n\u001b[0;32m-> 1511\u001b[0m     \u001b[38;5;28;01mreturn\u001b[39;00m \u001b[38;5;28;43mself\u001b[39;49m\u001b[38;5;241;43m.\u001b[39;49m\u001b[43m_call_impl\u001b[49m\u001b[43m(\u001b[49m\u001b[38;5;241;43m*\u001b[39;49m\u001b[43margs\u001b[49m\u001b[43m,\u001b[49m\u001b[43m \u001b[49m\u001b[38;5;241;43m*\u001b[39;49m\u001b[38;5;241;43m*\u001b[39;49m\u001b[43mkwargs\u001b[49m\u001b[43m)\u001b[49m\n",
      "File \u001b[0;32m~/miniconda3/envs/VCPI/lib/python3.8/site-packages/torch/nn/modules/module.py:1520\u001b[0m, in \u001b[0;36mModule._call_impl\u001b[0;34m(self, *args, **kwargs)\u001b[0m\n\u001b[1;32m   1515\u001b[0m \u001b[38;5;66;03m# If we don't have any hooks, we want to skip the rest of the logic in\u001b[39;00m\n\u001b[1;32m   1516\u001b[0m \u001b[38;5;66;03m# this function, and just call forward.\u001b[39;00m\n\u001b[1;32m   1517\u001b[0m \u001b[38;5;28;01mif\u001b[39;00m \u001b[38;5;129;01mnot\u001b[39;00m (\u001b[38;5;28mself\u001b[39m\u001b[38;5;241m.\u001b[39m_backward_hooks \u001b[38;5;129;01mor\u001b[39;00m \u001b[38;5;28mself\u001b[39m\u001b[38;5;241m.\u001b[39m_backward_pre_hooks \u001b[38;5;129;01mor\u001b[39;00m \u001b[38;5;28mself\u001b[39m\u001b[38;5;241m.\u001b[39m_forward_hooks \u001b[38;5;129;01mor\u001b[39;00m \u001b[38;5;28mself\u001b[39m\u001b[38;5;241m.\u001b[39m_forward_pre_hooks\n\u001b[1;32m   1518\u001b[0m         \u001b[38;5;129;01mor\u001b[39;00m _global_backward_pre_hooks \u001b[38;5;129;01mor\u001b[39;00m _global_backward_hooks\n\u001b[1;32m   1519\u001b[0m         \u001b[38;5;129;01mor\u001b[39;00m _global_forward_hooks \u001b[38;5;129;01mor\u001b[39;00m _global_forward_pre_hooks):\n\u001b[0;32m-> 1520\u001b[0m     \u001b[38;5;28;01mreturn\u001b[39;00m \u001b[43mforward_call\u001b[49m\u001b[43m(\u001b[49m\u001b[38;5;241;43m*\u001b[39;49m\u001b[43margs\u001b[49m\u001b[43m,\u001b[49m\u001b[43m \u001b[49m\u001b[38;5;241;43m*\u001b[39;49m\u001b[38;5;241;43m*\u001b[39;49m\u001b[43mkwargs\u001b[49m\u001b[43m)\u001b[49m\n\u001b[1;32m   1522\u001b[0m \u001b[38;5;28;01mtry\u001b[39;00m:\n\u001b[1;32m   1523\u001b[0m     result \u001b[38;5;241m=\u001b[39m \u001b[38;5;28;01mNone\u001b[39;00m\n",
      "File \u001b[0;32m~/miniconda3/envs/VCPI/lib/python3.8/site-packages/torchvision/transforms/v2/_transform.py:50\u001b[0m, in \u001b[0;36mTransform.forward\u001b[0;34m(self, *inputs)\u001b[0m\n\u001b[1;32m     45\u001b[0m needs_transform_list \u001b[38;5;241m=\u001b[39m \u001b[38;5;28mself\u001b[39m\u001b[38;5;241m.\u001b[39m_needs_transform_list(flat_inputs)\n\u001b[1;32m     46\u001b[0m params \u001b[38;5;241m=\u001b[39m \u001b[38;5;28mself\u001b[39m\u001b[38;5;241m.\u001b[39m_get_params(\n\u001b[1;32m     47\u001b[0m     [inpt \u001b[38;5;28;01mfor\u001b[39;00m (inpt, needs_transform) \u001b[38;5;129;01min\u001b[39;00m \u001b[38;5;28mzip\u001b[39m(flat_inputs, needs_transform_list) \u001b[38;5;28;01mif\u001b[39;00m needs_transform]\n\u001b[1;32m     48\u001b[0m )\n\u001b[0;32m---> 50\u001b[0m flat_outputs \u001b[38;5;241m=\u001b[39m [\n\u001b[1;32m     51\u001b[0m     \u001b[38;5;28mself\u001b[39m\u001b[38;5;241m.\u001b[39m_transform(inpt, params) \u001b[38;5;28;01mif\u001b[39;00m needs_transform \u001b[38;5;28;01melse\u001b[39;00m inpt\n\u001b[1;32m     52\u001b[0m     \u001b[38;5;28;01mfor\u001b[39;00m (inpt, needs_transform) \u001b[38;5;129;01min\u001b[39;00m \u001b[38;5;28mzip\u001b[39m(flat_inputs, needs_transform_list)\n\u001b[1;32m     53\u001b[0m ]\n\u001b[1;32m     55\u001b[0m \u001b[38;5;28;01mreturn\u001b[39;00m tree_unflatten(flat_outputs, spec)\n",
      "File \u001b[0;32m~/miniconda3/envs/VCPI/lib/python3.8/site-packages/torchvision/transforms/v2/_transform.py:51\u001b[0m, in \u001b[0;36m<listcomp>\u001b[0;34m(.0)\u001b[0m\n\u001b[1;32m     45\u001b[0m needs_transform_list \u001b[38;5;241m=\u001b[39m \u001b[38;5;28mself\u001b[39m\u001b[38;5;241m.\u001b[39m_needs_transform_list(flat_inputs)\n\u001b[1;32m     46\u001b[0m params \u001b[38;5;241m=\u001b[39m \u001b[38;5;28mself\u001b[39m\u001b[38;5;241m.\u001b[39m_get_params(\n\u001b[1;32m     47\u001b[0m     [inpt \u001b[38;5;28;01mfor\u001b[39;00m (inpt, needs_transform) \u001b[38;5;129;01min\u001b[39;00m \u001b[38;5;28mzip\u001b[39m(flat_inputs, needs_transform_list) \u001b[38;5;28;01mif\u001b[39;00m needs_transform]\n\u001b[1;32m     48\u001b[0m )\n\u001b[1;32m     50\u001b[0m flat_outputs \u001b[38;5;241m=\u001b[39m [\n\u001b[0;32m---> 51\u001b[0m     \u001b[38;5;28;43mself\u001b[39;49m\u001b[38;5;241;43m.\u001b[39;49m\u001b[43m_transform\u001b[49m\u001b[43m(\u001b[49m\u001b[43minpt\u001b[49m\u001b[43m,\u001b[49m\u001b[43m \u001b[49m\u001b[43mparams\u001b[49m\u001b[43m)\u001b[49m \u001b[38;5;28;01mif\u001b[39;00m needs_transform \u001b[38;5;28;01melse\u001b[39;00m inpt\n\u001b[1;32m     52\u001b[0m     \u001b[38;5;28;01mfor\u001b[39;00m (inpt, needs_transform) \u001b[38;5;129;01min\u001b[39;00m \u001b[38;5;28mzip\u001b[39m(flat_inputs, needs_transform_list)\n\u001b[1;32m     53\u001b[0m ]\n\u001b[1;32m     55\u001b[0m \u001b[38;5;28;01mreturn\u001b[39;00m tree_unflatten(flat_outputs, spec)\n",
      "File \u001b[0;32m~/miniconda3/envs/VCPI/lib/python3.8/site-packages/torchvision/transforms/v2/_type_conversion.py:39\u001b[0m, in \u001b[0;36mToImage._transform\u001b[0;34m(self, inpt, params)\u001b[0m\n\u001b[1;32m     36\u001b[0m \u001b[38;5;28;01mdef\u001b[39;00m \u001b[38;5;21m_transform\u001b[39m(\n\u001b[1;32m     37\u001b[0m     \u001b[38;5;28mself\u001b[39m, inpt: Union[torch\u001b[38;5;241m.\u001b[39mTensor, PIL\u001b[38;5;241m.\u001b[39mImage\u001b[38;5;241m.\u001b[39mImage, np\u001b[38;5;241m.\u001b[39mndarray], params: Dict[\u001b[38;5;28mstr\u001b[39m, Any]\n\u001b[1;32m     38\u001b[0m ) \u001b[38;5;241m-\u001b[39m\u001b[38;5;241m>\u001b[39m tv_tensors\u001b[38;5;241m.\u001b[39mImage:\n\u001b[0;32m---> 39\u001b[0m     \u001b[38;5;28;01mreturn\u001b[39;00m \u001b[43mF\u001b[49m\u001b[38;5;241;43m.\u001b[39;49m\u001b[43mto_image\u001b[49m\u001b[43m(\u001b[49m\u001b[43minpt\u001b[49m\u001b[43m)\u001b[49m\n",
      "File \u001b[0;32m~/miniconda3/envs/VCPI/lib/python3.8/site-packages/torchvision/transforms/v2/functional/_type_conversion.py:16\u001b[0m, in \u001b[0;36mto_image\u001b[0;34m(inpt)\u001b[0m\n\u001b[1;32m     14\u001b[0m     output \u001b[38;5;241m=\u001b[39m torch\u001b[38;5;241m.\u001b[39mfrom_numpy(inpt)\u001b[38;5;241m.\u001b[39mpermute((\u001b[38;5;241m2\u001b[39m, \u001b[38;5;241m0\u001b[39m, \u001b[38;5;241m1\u001b[39m))\u001b[38;5;241m.\u001b[39mcontiguous()\n\u001b[1;32m     15\u001b[0m \u001b[38;5;28;01melif\u001b[39;00m \u001b[38;5;28misinstance\u001b[39m(inpt, PIL\u001b[38;5;241m.\u001b[39mImage\u001b[38;5;241m.\u001b[39mImage):\n\u001b[0;32m---> 16\u001b[0m     output \u001b[38;5;241m=\u001b[39m \u001b[43mpil_to_tensor\u001b[49m\u001b[43m(\u001b[49m\u001b[43minpt\u001b[49m\u001b[43m)\u001b[49m\n\u001b[1;32m     17\u001b[0m \u001b[38;5;28;01melif\u001b[39;00m \u001b[38;5;28misinstance\u001b[39m(inpt, torch\u001b[38;5;241m.\u001b[39mTensor):\n\u001b[1;32m     18\u001b[0m     output \u001b[38;5;241m=\u001b[39m inpt\n",
      "File \u001b[0;32m~/miniconda3/envs/VCPI/lib/python3.8/site-packages/torchvision/transforms/functional.py:208\u001b[0m, in \u001b[0;36mpil_to_tensor\u001b[0;34m(pic)\u001b[0m\n\u001b[1;32m    205\u001b[0m     \u001b[38;5;28;01mreturn\u001b[39;00m torch\u001b[38;5;241m.\u001b[39mas_tensor(nppic)\n\u001b[1;32m    207\u001b[0m \u001b[38;5;66;03m# handle PIL Image\u001b[39;00m\n\u001b[0;32m--> 208\u001b[0m img \u001b[38;5;241m=\u001b[39m torch\u001b[38;5;241m.\u001b[39mas_tensor(\u001b[43mnp\u001b[49m\u001b[38;5;241;43m.\u001b[39;49m\u001b[43marray\u001b[49m\u001b[43m(\u001b[49m\u001b[43mpic\u001b[49m\u001b[43m,\u001b[49m\u001b[43m \u001b[49m\u001b[43mcopy\u001b[49m\u001b[38;5;241;43m=\u001b[39;49m\u001b[38;5;28;43;01mTrue\u001b[39;49;00m\u001b[43m)\u001b[49m)\n\u001b[1;32m    209\u001b[0m img \u001b[38;5;241m=\u001b[39m img\u001b[38;5;241m.\u001b[39mview(pic\u001b[38;5;241m.\u001b[39msize[\u001b[38;5;241m1\u001b[39m], pic\u001b[38;5;241m.\u001b[39msize[\u001b[38;5;241m0\u001b[39m], F_pil\u001b[38;5;241m.\u001b[39mget_image_num_channels(pic))\n\u001b[1;32m    210\u001b[0m \u001b[38;5;66;03m# put it from HWC to CHW format\u001b[39;00m\n",
      "\u001b[0;31mKeyboardInterrupt\u001b[0m: "
     ]
    }
   ],
   "source": [
    "import os\n",
    "\n",
    "models = []\n",
    "acc = []\n",
    "\n",
    "i = 0\n",
    "for f in os.listdir():\n",
    "    \n",
    "    # if \".pt\" in f and f not in [\"rotateErase_30.pt\", \"rrotateErase_49.pt\", \"cutmixMixup.pt\", \"cutmixMixup43.pt\"]:\n",
    "    if \".pt\" in f and \"Balanced\" in f:\n",
    "        print(f)\n",
    "\n",
    "        reload = torch.load(f)\n",
    "        model = Conv(len(test_set.classes))\n",
    "        model.load_state_dict(reload['model'])\n",
    "        model.to(device)\n",
    "        models.append(model)\n",
    "        acc.append(evaluate(models[i], test_loader))\n",
    "        i += 1\n"
   ]
  },
  {
   "cell_type": "markdown",
   "metadata": {},
   "source": [
    "Gráfico de barras que mostra a avaliação de cada um dos modelos\n",
    "\n",
    "Podemos verificar que nem todos os modelos utilizados tem as melhores percentagens\n",
    "\n",
    "Isso é devido ao facto de apenas conseguirmos treinar um dos modelos com o dataset balanceado (randomChannelPermutBalanced), e ao facto de algumas das transformacoes utilizadas não serem ótimas para treinar a rede, que seria o caso da combinação de randomRotate com RandomErase, que, talvez por cortar parte da imagem, com o treino que lhe demos não conseguiu extrair das imagens de input o melhor resultado."
   ]
  },
  {
   "cell_type": "code",
   "execution_count": null,
   "metadata": {},
   "outputs": [
    {
     "name": "stdout",
     "output_type": "stream",
     "text": [
      "[0.9758511185646057, 0.9780681133270264, 0.9060965776443481, 0.9765637516975403, 0.9570863246917725, 0.9140934348106384, 0.9774346947669983]\n",
      "0.9550277165004185 0.9780681133270264 0.9060965776443481\n"
     ]
    },
    {
     "data": {
      "text/plain": [
       "(0.8, 1.0)"
      ]
     },
     "execution_count": 72,
     "metadata": {},
     "output_type": "execute_result"
    },
    {
     "data": {
      "image/png": "[encoded data removed]",
      "text/plain": [
       "<Figure size 640x480 with 1 Axes>"
      ]
     },
     "metadata": {},
     "output_type": "display_data"
    }
   ],
   "source": [
    "print(acc)\n",
    "index = [i for i in range(len(models))]\n",
    "\n",
    "plt.bar(index, acc)\n",
    "print(np.mean(acc), np.max(acc), np.min(acc))\n",
    "plt.ylim(0.80,1.0)"
   ]
  },
  {
   "cell_type": "code",
   "execution_count": null,
   "metadata": {},
   "outputs": [],
   "source": [
    "\n",
    "def get_labels_logits_and_preds(models):\n",
    "\n",
    "    with torch.no_grad():\n",
    "        logits = [[] for _ in range(len(models))]\n",
    "        labels = []\n",
    "\n",
    "        for images, labs in test_loader:\n",
    "\n",
    "            images = images.to(device)\n",
    "            labels.extend(labs)\n",
    "            \n",
    "            for i in range(len(models)):\n",
    "                logits[i].extend(models[i](images).cpu())\n",
    "\n",
    "\n",
    "    return labels, logits\n",
    "\n",
    "labels, logits = get_labels_logits_and_preds(models)"
   ]
  },
  {
   "cell_type": "code",
   "execution_count": null,
   "metadata": {},
   "outputs": [],
   "source": [
    "preds = [[] for _ in range(len(labels)) ]\n",
    "for index in range(len(labels)):\n",
    "    preds[index] = [np.argmax(logits[m][index].cpu().numpy()) for m in range(len(models))]"
   ]
  },
  {
   "cell_type": "code",
   "execution_count": null,
   "metadata": {},
   "outputs": [],
   "source": [
    "def get_class_from_sum_of_logits(logits):\n",
    "\n",
    "    sum_logits = []\n",
    "\n",
    "    for i in range(len(logits[0])):\n",
    "\n",
    "        log = logits[0][i]\n",
    "        for m in range(len(models)):\n",
    "            log = np.add(log, logits[m][i])\n",
    "        sum_logits.append(np.argmax(log))\n",
    "    return(sum_logits)\n",
    "    \n",
    "class_logits = get_class_from_sum_of_logits(logits)    "
   ]
  },
  {
   "cell_type": "markdown",
   "metadata": {},
   "source": [
    "## Análise dos resultados do modelo de ensemble\n"
   ]
  },
  {
   "cell_type": "markdown",
   "metadata": {},
   "source": [
    "Olhando para os resultados abaixo, podemos ver que, com modelos cuja a melhor classificação era 97.8%, o ensemble desses modelos conseguiu uma percentagem de acerto de 98.6%, o que é um aumento ainda considerável.\n",
    "\n",
    "Podemos verificar que há casos em que todos acertam, que é a maioria, o que seria de esperar utilizando modelos com accuracy's acima dos 90%.\n",
    "\n",
    "Temos 1 caso no qual erram todos, 1592 casos com maioria a acertar, 73 empates e  103 com maioria errada."
   ]
  },
  {
   "cell_type": "code",
   "execution_count": null,
   "metadata": {},
   "outputs": [
    {
     "name": "stdout",
     "output_type": "stream",
     "text": [
      "total:  12630\n",
      "All correct:  10861\n",
      "All incorrect:  1\n",
      "Majority correct:  1592\n",
      "Tie Vote:  73\n",
      "Majority Wrong:  103\n",
      "Percentage right:  0.9859857482185274\n"
     ]
    }
   ],
   "source": [
    "import collections \n",
    "\n",
    "def get_stats(labels, class_preds, class_logits):\n",
    "\n",
    "    all_correct = 0\n",
    "    all_incorrect = 0\n",
    "    maj_vote = 0\n",
    "    maj_wrong = 0\n",
    "    tie = 0\n",
    "    count = 0\n",
    "\n",
    "    for k in range(len(labels)):\n",
    "\n",
    "        counter = collections.Counter(class_preds[k])\n",
    "        if len(counter) == 1:\n",
    "            if counter.most_common(1)[0][0] == labels[k]:\n",
    "                all_correct += 1\n",
    "            else:\n",
    "                all_incorrect += 1\n",
    "        else:\n",
    "            aux = counter.most_common(2)\n",
    "            if aux[0][1] > aux[1][1] and aux[0][0] == labels[k]:\n",
    "                maj_vote += 1\n",
    "            if aux[0][1] > aux[1][1] and aux[0][0] != labels[k]:\n",
    "                maj_wrong += 1\n",
    "            elif aux[0][1] == aux[1][1]:\n",
    "                tie += 1\n",
    "\n",
    "        count += 1 \n",
    "        \n",
    "    return [count, all_correct, all_incorrect, maj_vote, tie, maj_wrong]\n",
    "    \n",
    "    \n",
    "res = get_stats(labels, preds, class_logits)\n",
    "print('total: ', res[0])\n",
    "print('All correct: ', res[1])\n",
    "print('All incorrect: ', res[2])\n",
    "print('Majority correct: ', res[3])\n",
    "print('Tie Vote: ', res[4])\n",
    "print('Majority Wrong: ', res[5])\n",
    "print('Percentage right: ', (res[1]+res[3])/res[0])"
   ]
  },
  {
   "cell_type": "markdown",
   "metadata": {},
   "source": [
    "# Conclusão\n",
    "\n",
    "Estamos satisfeitos com os resultados obtidos, uma vez que conseguimos uma taxa de acerto de 98.6%, no entanto sabemos que, se tivéssemos conseguido treinar mais modelos com o dataset já balanceado, conseguiríamos provavelmente aumentar mais esse valor."
   ]
  }
 ],
 "metadata": {
  "kernelspec": {
   "display_name": "VCPI",
   "language": "python",
   "name": "python3"
  },
  "language_info": {
   "codemirror_mode": {
    "name": "ipython",
    "version": 3
   },
   "file_extension": ".py",
   "mimetype": "text/x-python",
   "name": "python",
   "nbconvert_exporter": "python",
   "pygments_lexer": "ipython3",
   "version": "3.8.19"
  }
 },
 "nbformat": 4,
 "nbformat_minor": 2
}
